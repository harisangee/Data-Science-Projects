{
 "cells": [
  {
   "cell_type": "markdown",
   "id": "b7f8b65a",
   "metadata": {},
   "source": [
    "# Data Science Tools and Ecosystem"
   ]
  },
  {
   "cell_type": "markdown",
   "id": "02c974a8",
   "metadata": {},
   "source": [
    "### In this notebook, Data Science Tools and Ecosystem are summarized."
   ]
  },
  {
   "cell_type": "markdown",
   "id": "ad60c125",
   "metadata": {},
   "source": [
    "##### Some of the popular languages that Data Scientists use are:\n",
    "\n",
    " 1. Python\n",
    " 2. SQL\n",
    " 3. Javascript"
   ]
  },
  {
   "cell_type": "markdown",
   "id": "a40b9b99",
   "metadata": {},
   "source": [
    "##### Some of the commonly used libraries used by Data Scientists include:\n",
    "\n",
    " 1. Pandas\n",
    " 2. numpy\n",
    " 3. scikit-learn"
   ]
  },
  {
   "cell_type": "markdown",
   "id": "a8d0fee1",
   "metadata": {},
   "source": [
    "#### Data Science Tools\n",
    "|Data Science Tool|\n",
    "|-----------------|\n",
    "|Rstudio|\n",
    "|Jupyter Notebook|\n",
    "|Apache Spark|\n"
   ]
  },
  {
   "cell_type": "markdown",
   "id": "f289d904",
   "metadata": {},
   "source": [
    "### Below are a few examples of evaluating arithmetic expressions in Python."
   ]
  },
  {
   "cell_type": "code",
   "execution_count": 1,
   "id": "f52c983b",
   "metadata": {},
   "outputs": [
    {
     "data": {
      "text/plain": [
       "17"
      ]
     },
     "execution_count": 1,
     "metadata": {},
     "output_type": "execute_result"
    }
   ],
   "source": [
    "# This is a simple arithmetic expression to multiply, then add integers\n",
    "(3*4)+5"
   ]
  },
  {
   "cell_type": "code",
   "execution_count": 2,
   "id": "c89b7691",
   "metadata": {},
   "outputs": [
    {
     "data": {
      "text/plain": [
       "3.3333333333333335"
      ]
     },
     "execution_count": 2,
     "metadata": {},
     "output_type": "execute_result"
    }
   ],
   "source": [
    "# This will convert 200 minutes to hours by diving by 60.\n",
    "200/60"
   ]
  },
  {
   "cell_type": "markdown",
   "id": "d71d75fd",
   "metadata": {},
   "source": [
    "### **A brief Note about this Course**\n",
    "\n",
    "#### **Objectives:**\n",
    "\n",
    "- Markdown cells using Unorded lists\n",
    "- Simple arithmatic expressions\n",
    "- Most popular Data Science Tools\n",
    "- Popularly used open source Datascience platforms\n",
    "- Data Science Libraries"
   ]
  },
  {
   "cell_type": "markdown",
   "id": "53092aa8",
   "metadata": {},
   "source": [
    "## Author\n",
    "Sangeetha H"
   ]
  },
  {
   "cell_type": "code",
   "execution_count": null,
   "id": "c189a7c2",
   "metadata": {},
   "outputs": [],
   "source": []
  }
 ],
 "metadata": {
  "kernelspec": {
   "display_name": "Python 3 (ipykernel)",
   "language": "python",
   "name": "python3"
  },
  "language_info": {
   "codemirror_mode": {
    "name": "ipython",
    "version": 3
   },
   "file_extension": ".py",
   "mimetype": "text/x-python",
   "name": "python",
   "nbconvert_exporter": "python",
   "pygments_lexer": "ipython3",
   "version": "3.11.5"
  }
 },
 "nbformat": 4,
 "nbformat_minor": 5
}
