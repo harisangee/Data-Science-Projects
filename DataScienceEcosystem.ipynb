{
 "cells": [
  {
   "cell_type": "markdown",
   "id": "fce85d73",
   "metadata": {},
   "source": [
    "# Data Science Tools and Ecosystem"
   ]
  },
  {
   "cell_type": "markdown",
   "id": "47561140",
   "metadata": {},
   "source": [
    "### In this notebook, Data Science Tools and Ecosystem are summarized."
   ]
  },
  {
   "cell_type": "markdown",
   "id": "c2328515",
   "metadata": {},
   "source": [
    "## A brief Note about this Course\n",
    "\n",
    "#### Objectives:\n",
    "\n",
    "- Markdown cells using Unorded lists\n",
    "- Simple arithmatic expressions\n",
    "- Most popular Data Science Tools\n",
    "- Popularly used open source Datascience platforms\n",
    "- Data Science Libraries"
   ]
  },
  {
   "cell_type": "markdown",
   "id": "e17925c3",
   "metadata": {},
   "source": [
    "##### Some of the popular languages that Data Scientists use are:\n",
    "\n",
    " 1. Python\n",
    " 2. SQL\n",
    " 3. Javascript"
   ]
  },
  {
   "cell_type": "markdown",
   "id": "2340c15b",
   "metadata": {},
   "source": [
    "##### Some of the commonly used libraries used by Data Scientists include:\n",
    "\n",
    " 1. Pandas\n",
    " 2. numpy\n",
    " 3. scikit-learn"
   ]
  },
  {
   "cell_type": "markdown",
   "id": "780d62fe",
   "metadata": {},
   "source": [
    "#### Data Science Tools\n",
    "|Data Science Tool|\n",
    "|-----------------|\n",
    "|Rstudio|\n",
    "|Jupyter Notebook|\n",
    "|Apache Spark|\n"
   ]
  },
  {
   "cell_type": "markdown",
   "id": "5c6d34ab",
   "metadata": {},
   "source": [
    "### Below are a few examples of evaluating arithmetic expressions in Python."
   ]
  },
  {
   "cell_type": "code",
   "execution_count": 1,
   "id": "de83e823",
   "metadata": {},
   "outputs": [
    {
     "data": {
      "text/plain": [
       "17"
      ]
     },
     "execution_count": 1,
     "metadata": {},
     "output_type": "execute_result"
    }
   ],
   "source": [
    "# This is a simple arithmetic expression to multiply, then add integers\n",
    "(3*4)+5"
   ]
  },
  {
   "cell_type": "code",
   "execution_count": 2,
   "id": "f722f69c",
   "metadata": {},
   "outputs": [
    {
     "data": {
      "text/plain": [
       "3.3333333333333335"
      ]
     },
     "execution_count": 2,
     "metadata": {},
     "output_type": "execute_result"
    }
   ],
   "source": [
    "# This will convert 200 minutes to hours by diving by 60.\n",
    "200/60"
   ]
  },
  {
   "cell_type": "markdown",
   "id": "e46ccb7b",
   "metadata": {},
   "source": [
    "## Author\n",
    "Sangeetha H"
   ]
  },
  {
   "cell_type": "code",
   "execution_count": null,
   "id": "82942ed2",
   "metadata": {},
   "outputs": [],
   "source": []
  }
 ],
 "metadata": {
  "kernelspec": {
   "display_name": "Python 3 (ipykernel)",
   "language": "python",
   "name": "python3"
  },
  "language_info": {
   "codemirror_mode": {
    "name": "ipython",
    "version": 3
   },
   "file_extension": ".py",
   "mimetype": "text/x-python",
   "name": "python",
   "nbconvert_exporter": "python",
   "pygments_lexer": "ipython3",
   "version": "3.11.5"
  }
 },
 "nbformat": 4,
 "nbformat_minor": 5
}
